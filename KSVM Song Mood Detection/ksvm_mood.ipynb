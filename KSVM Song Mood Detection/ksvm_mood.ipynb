{
 "cells": [
  {
   "cell_type": "markdown",
   "metadata": {},
   "source": [
    "[Dataset found here](https://www.jyu.fi/hytk/fi/laitokset/mutku/en/research/projects2/past-projects/coe/materials/emotion/soundtracks/Index)."
   ]
  },
  {
   "cell_type": "markdown",
   "metadata": {},
   "source": [
    "# Kernel SVM to Predict Song Mood"
   ]
  },
  {
   "cell_type": "markdown",
   "metadata": {},
   "source": [
    "## Import Libraries"
   ]
  },
  {
   "cell_type": "code",
   "execution_count": 1,
   "metadata": {},
   "outputs": [],
   "source": [
    "import pandas as pd\n",
    "from pathlib import Path\n",
    "import librosa\n",
    "import IPython.display as ipd\n",
    "import numpy as np\n",
    "import warnings\n",
    "import matplotlib.pyplot as plt\n",
    "warnings.filterwarnings(\"ignore\") #librosa.load raises warning with .mp3 files"
   ]
  },
  {
   "cell_type": "markdown",
   "metadata": {},
   "source": [
    "## Import Dependent Variable"
   ]
  },
  {
   "cell_type": "code",
   "execution_count": 2,
   "metadata": {},
   "outputs": [
    {
     "data": {
      "text/html": [
       "<div>\n",
       "<style scoped>\n",
       "    .dataframe tbody tr th:only-of-type {\n",
       "        vertical-align: middle;\n",
       "    }\n",
       "\n",
       "    .dataframe tbody tr th {\n",
       "        vertical-align: top;\n",
       "    }\n",
       "\n",
       "    .dataframe thead th {\n",
       "        text-align: right;\n",
       "    }\n",
       "</style>\n",
       "<table border=\"1\" class=\"dataframe\">\n",
       "  <thead>\n",
       "    <tr style=\"text-align: right;\">\n",
       "      <th></th>\n",
       "      <th>Number</th>\n",
       "      <th>valence</th>\n",
       "      <th>energy</th>\n",
       "      <th>tension</th>\n",
       "      <th>anger</th>\n",
       "      <th>fear</th>\n",
       "      <th>happy</th>\n",
       "      <th>sad</th>\n",
       "      <th>tender</th>\n",
       "      <th>beauty</th>\n",
       "      <th>liking</th>\n",
       "      <th>TARGET</th>\n",
       "      <th>Soundtrack</th>\n",
       "      <th>Index in Set 1</th>\n",
       "    </tr>\n",
       "  </thead>\n",
       "  <tbody>\n",
       "    <tr>\n",
       "      <th>0</th>\n",
       "      <td>1</td>\n",
       "      <td>2.5625</td>\n",
       "      <td>7.7292</td>\n",
       "      <td>8.3750</td>\n",
       "      <td>6.3881</td>\n",
       "      <td>4.4030</td>\n",
       "      <td>1.2090</td>\n",
       "      <td>1.7463</td>\n",
       "      <td>1.0149</td>\n",
       "      <td>4.7066</td>\n",
       "      <td>4.9661</td>\n",
       "      <td>ANGER_HIGH</td>\n",
       "      <td>Lethal weapon 3</td>\n",
       "      <td>227</td>\n",
       "    </tr>\n",
       "    <tr>\n",
       "      <th>1</th>\n",
       "      <td>2</td>\n",
       "      <td>2.5000</td>\n",
       "      <td>8.2083</td>\n",
       "      <td>8.5625</td>\n",
       "      <td>5.7612</td>\n",
       "      <td>5.9254</td>\n",
       "      <td>1.0896</td>\n",
       "      <td>1.5970</td>\n",
       "      <td>1.1045</td>\n",
       "      <td>4.5709</td>\n",
       "      <td>4.7915</td>\n",
       "      <td>ANGER_HIGH</td>\n",
       "      <td>The Rainmaker</td>\n",
       "      <td>124</td>\n",
       "    </tr>\n",
       "    <tr>\n",
       "      <th>2</th>\n",
       "      <td>3</td>\n",
       "      <td>2.9167</td>\n",
       "      <td>8.2083</td>\n",
       "      <td>8.1667</td>\n",
       "      <td>6.3134</td>\n",
       "      <td>4.0597</td>\n",
       "      <td>1.3134</td>\n",
       "      <td>1.5522</td>\n",
       "      <td>1.0149</td>\n",
       "      <td>4.4488</td>\n",
       "      <td>5.0614</td>\n",
       "      <td>ANGER_HIGH</td>\n",
       "      <td>The Alien Trilogy</td>\n",
       "      <td>125</td>\n",
       "    </tr>\n",
       "    <tr>\n",
       "      <th>3</th>\n",
       "      <td>4</td>\n",
       "      <td>2.8750</td>\n",
       "      <td>6.7500</td>\n",
       "      <td>7.9792</td>\n",
       "      <td>5.4179</td>\n",
       "      <td>4.5075</td>\n",
       "      <td>1.1940</td>\n",
       "      <td>2.1045</td>\n",
       "      <td>1.0597</td>\n",
       "      <td>3.9969</td>\n",
       "      <td>4.3546</td>\n",
       "      <td>ANGER_HIGH</td>\n",
       "      <td>Cape Fear</td>\n",
       "      <td>168</td>\n",
       "    </tr>\n",
       "    <tr>\n",
       "      <th>4</th>\n",
       "      <td>5</td>\n",
       "      <td>3.0833</td>\n",
       "      <td>6.8333</td>\n",
       "      <td>7.5000</td>\n",
       "      <td>6.1343</td>\n",
       "      <td>4.2388</td>\n",
       "      <td>1.0746</td>\n",
       "      <td>2.9552</td>\n",
       "      <td>1.0746</td>\n",
       "      <td>5.0765</td>\n",
       "      <td>5.3549</td>\n",
       "      <td>ANGER_HIGH</td>\n",
       "      <td>The Fifth Element</td>\n",
       "      <td>239</td>\n",
       "    </tr>\n",
       "  </tbody>\n",
       "</table>\n",
       "</div>"
      ],
      "text/plain": [
       "   Number  valence  energy  tension   anger    fear   happy     sad  tender  \\\n",
       "0       1   2.5625  7.7292   8.3750  6.3881  4.4030  1.2090  1.7463  1.0149   \n",
       "1       2   2.5000  8.2083   8.5625  5.7612  5.9254  1.0896  1.5970  1.1045   \n",
       "2       3   2.9167  8.2083   8.1667  6.3134  4.0597  1.3134  1.5522  1.0149   \n",
       "3       4   2.8750  6.7500   7.9792  5.4179  4.5075  1.1940  2.1045  1.0597   \n",
       "4       5   3.0833  6.8333   7.5000  6.1343  4.2388  1.0746  2.9552  1.0746   \n",
       "\n",
       "   beauty  liking      TARGET         Soundtrack  Index in Set 1  \n",
       "0  4.7066  4.9661  ANGER_HIGH    Lethal weapon 3             227  \n",
       "1  4.5709  4.7915  ANGER_HIGH      The Rainmaker             124  \n",
       "2  4.4488  5.0614  ANGER_HIGH  The Alien Trilogy             125  \n",
       "3  3.9969  4.3546  ANGER_HIGH          Cape Fear             168  \n",
       "4  5.0765  5.3549  ANGER_HIGH  The Fifth Element             239  "
      ]
     },
     "execution_count": 2,
     "metadata": {},
     "output_type": "execute_result"
    }
   ],
   "source": [
    "dataset = pd.read_excel(io='set2/mean_ratings_set2.xls')\n",
    "dataset.head()"
   ]
  },
  {
   "cell_type": "markdown",
   "metadata": {},
   "source": [
    "### Generalize Target Labels"
   ]
  },
  {
   "cell_type": "code",
   "execution_count": 3,
   "metadata": {},
   "outputs": [
    {
     "data": {
      "text/plain": [
       "array(['ANGER_HIGH', 'ANGER_MODERATE', 'FEAR_HIGH', 'FEAR_MODERATE',\n",
       "       'HAPPY_HIGH', 'HAPPY_MODERATE', 'SAD_HIGH', 'SAD_MODERATE',\n",
       "       'TENDER_HIGH', 'TENDER_MODERATE', 'VALENCE POS HIGH',\n",
       "       'VALENCE POS MODERATE', 'VALENCE NEG MODERATE', 'VALENCE NEG HIGH',\n",
       "       'ENERGY POS HIGH', 'ENERGY POS MODERATE', 'ENERGY NEG MODERATE',\n",
       "       'ENERGY NEG HIGH', 'TENSION POS HIGH', 'TENSION POS MODERATE',\n",
       "       'TENSION NEG MODERATE', 'TENSION NEG HIGH'], dtype=object)"
      ]
     },
     "execution_count": 3,
     "metadata": {},
     "output_type": "execute_result"
    }
   ],
   "source": [
    "dataset['TARGET'].unique()"
   ]
  },
  {
   "cell_type": "code",
   "execution_count": 4,
   "metadata": {},
   "outputs": [],
   "source": [
    "moods = ['ANGER','FEAR','HAPPY','SAD','TENDER','VALENCE','ENERGY','TENSION']\n",
    "for mood in moods:\n",
    "    dataset.TARGET=np.where(dataset.TARGET.str.startswith(mood),mood,dataset.TARGET)"
   ]
  },
  {
   "cell_type": "code",
   "execution_count": 5,
   "metadata": {},
   "outputs": [
    {
     "data": {
      "text/plain": [
       "0        ANGER\n",
       "1        ANGER\n",
       "2        ANGER\n",
       "3        ANGER\n",
       "4        ANGER\n",
       "        ...   \n",
       "105    TENSION\n",
       "106    TENSION\n",
       "107    TENSION\n",
       "108    TENSION\n",
       "109    TENSION\n",
       "Name: TARGET, Length: 110, dtype: object"
      ]
     },
     "execution_count": 5,
     "metadata": {},
     "output_type": "execute_result"
    }
   ],
   "source": [
    "dataset['TARGET']"
   ]
  },
  {
   "cell_type": "markdown",
   "metadata": {},
   "source": [
    "### Encode Labels"
   ]
  },
  {
   "cell_type": "code",
   "execution_count": 6,
   "metadata": {},
   "outputs": [
    {
     "data": {
      "text/plain": [
       "array([0, 0, 0, 0, 0, 0, 0, 0, 0, 0, 2, 2, 2, 2, 2, 2, 2, 2, 2, 2, 3, 3,\n",
       "       3, 3, 3, 3, 3, 3, 3, 3, 4, 4, 4, 4, 4, 4, 4, 4, 4, 4, 5, 5, 5, 5,\n",
       "       5, 5, 5, 5, 5, 5, 7, 7, 7, 7, 7, 7, 7, 7, 7, 7, 7, 7, 7, 7, 7, 7,\n",
       "       7, 7, 7, 7, 1, 1, 1, 1, 1, 1, 1, 1, 1, 1, 1, 1, 1, 1, 1, 1, 1, 1,\n",
       "       1, 1, 6, 6, 6, 6, 6, 6, 6, 6, 6, 6, 6, 6, 6, 6, 6, 6, 6, 6, 6, 6])"
      ]
     },
     "execution_count": 6,
     "metadata": {},
     "output_type": "execute_result"
    }
   ],
   "source": [
    "y = dataset['TARGET']\n",
    "from sklearn.preprocessing import LabelEncoder\n",
    "le = LabelEncoder()\n",
    "y = le.fit_transform(y)\n",
    "y"
   ]
  },
  {
   "cell_type": "markdown",
   "metadata": {},
   "source": [
    "## Import Audio"
   ]
  },
  {
   "cell_type": "code",
   "execution_count": 7,
   "metadata": {},
   "outputs": [],
   "source": [
    "DIRECTORY = Path('set2/mp3')\n",
    "\n",
    "audio_files = sorted([fp for fp in DIRECTORY.glob('*.mp3')])\n",
    "audio = [librosa.load(i) for i in audio_files]"
   ]
  },
  {
   "cell_type": "markdown",
   "metadata": {},
   "source": [
    "### Extract Features"
   ]
  },
  {
   "cell_type": "code",
   "execution_count": 69,
   "metadata": {},
   "outputs": [],
   "source": [
    "def extract_features(signal):\n",
    "    return [\n",
    "#         librosa.feature.zero_crossing_rate(signal)[0, 0],\n",
    "        librosa.feature.spectral_centroid(signal)[0, 0],\n",
    "#         librosa.feature.mfcc(signal)[0,0],\n",
    "        librosa.feature.spectral_rolloff(signal)[0,0],\n",
    "        librosa.feature.spectral_contrast(signal)[0,0],\n",
    "        librosa.feature.spectral_flatness(signal)[0,0],\n",
    "#         librosa.feature.rms(signal)[0,0],\n",
    "#         librosa.feature.tonnetz(signal)[0,0]\n",
    "    ]"
   ]
  },
  {
   "cell_type": "code",
   "execution_count": 70,
   "metadata": {},
   "outputs": [],
   "source": [
    "X = pd.DataFrame([extract_features(audio[x][0]) for x in range(len(audio))])"
   ]
  },
  {
   "cell_type": "markdown",
   "metadata": {},
   "source": [
    "### Split into Test and Train"
   ]
  },
  {
   "cell_type": "code",
   "execution_count": 71,
   "metadata": {},
   "outputs": [],
   "source": [
    "from sklearn.model_selection import train_test_split\n",
    "X_train, X_test, y_train, y_test = train_test_split(X, y, test_size = 0.25, random_state = 0)"
   ]
  },
  {
   "cell_type": "markdown",
   "metadata": {},
   "source": [
    "### Feature Scale"
   ]
  },
  {
   "cell_type": "code",
   "execution_count": 72,
   "metadata": {},
   "outputs": [],
   "source": [
    "from sklearn.preprocessing import StandardScaler\n",
    "sc = StandardScaler()\n",
    "X_train = sc.fit_transform(X_train)\n",
    "X_test = sc.transform(X_test)"
   ]
  },
  {
   "cell_type": "markdown",
   "metadata": {},
   "source": [
    "## Train Kernel SVM Model"
   ]
  },
  {
   "cell_type": "markdown",
   "metadata": {},
   "source": [
    "### Dimensionality Reduction with Principal Component Analysis"
   ]
  },
  {
   "cell_type": "code",
   "execution_count": 93,
   "metadata": {},
   "outputs": [],
   "source": [
    "from sklearn.decomposition import PCA\n",
    "pca = PCA(n_components = 2)\n",
    "X_train = pca.fit_transform(X_train)\n",
    "X_test = pca.transform(X_test)"
   ]
  },
  {
   "cell_type": "markdown",
   "metadata": {},
   "source": [
    "### Use Radial Basis Function to Train KSVM"
   ]
  },
  {
   "cell_type": "code",
   "execution_count": 94,
   "metadata": {},
   "outputs": [
    {
     "data": {
      "text/plain": [
       "SVC()"
      ]
     },
     "execution_count": 94,
     "metadata": {},
     "output_type": "execute_result"
    }
   ],
   "source": [
    "from sklearn.svm import SVC\n",
    "classifier = SVC(kernel = 'rbf')\n",
    "classifier.fit(X_train, y_train)"
   ]
  },
  {
   "cell_type": "markdown",
   "metadata": {},
   "source": [
    "## Evaluate"
   ]
  },
  {
   "cell_type": "markdown",
   "metadata": {},
   "source": [
    "### Confusion Matrix"
   ]
  },
  {
   "cell_type": "code",
   "execution_count": 95,
   "metadata": {},
   "outputs": [
    {
     "name": "stdout",
     "output_type": "stream",
     "text": [
      "[[0 3 0 0 0 0 0 1]\n",
      " [0 2 0 0 0 0 3 0]\n",
      " [0 2 0 0 0 0 0 1]\n",
      " [0 2 0 0 0 0 0 1]\n",
      " [0 1 0 0 0 0 0 0]\n",
      " [0 1 0 0 0 1 0 0]\n",
      " [0 0 0 0 0 1 3 1]\n",
      " [0 1 0 0 0 0 0 4]]\n"
     ]
    },
    {
     "data": {
      "text/plain": [
       "0.35714285714285715"
      ]
     },
     "execution_count": 95,
     "metadata": {},
     "output_type": "execute_result"
    }
   ],
   "source": [
    "from sklearn.metrics import confusion_matrix, accuracy_score\n",
    "y_pred = classifier.predict(X_test)\n",
    "cm = confusion_matrix(y_test, y_pred)\n",
    "print(cm)\n",
    "accuracy_score(y_test, y_pred)"
   ]
  },
  {
   "cell_type": "markdown",
   "metadata": {},
   "source": [
    "### Use K-Fold Cross Validation to Evaluate Accuracy"
   ]
  },
  {
   "cell_type": "code",
   "execution_count": 96,
   "metadata": {},
   "outputs": [
    {
     "name": "stdout",
     "output_type": "stream",
     "text": [
      "Accuracy: 25.83%\n",
      "Standard Deviation: 12.02 %\n"
     ]
    }
   ],
   "source": [
    "from sklearn.model_selection import cross_val_score\n",
    "accuracies = cross_val_score(estimator = classifier,\n",
    "                            X = X_train,\n",
    "                            y = y_train,\n",
    "                            cv = 10)\n",
    "print(\"Accuracy: {:.2f}%\".format(accuracies.mean()*100))\n",
    "print(\"Standard Deviation: {:.2f} %\".format(accuracies.std()*100))"
   ]
  }
 ],
 "metadata": {
  "kernelspec": {
   "display_name": "Python 3",
   "language": "python",
   "name": "python3"
  },
  "language_info": {
   "codemirror_mode": {
    "name": "ipython",
    "version": 3
   },
   "file_extension": ".py",
   "mimetype": "text/x-python",
   "name": "python",
   "nbconvert_exporter": "python",
   "pygments_lexer": "ipython3",
   "version": "3.7.6"
  }
 },
 "nbformat": 4,
 "nbformat_minor": 4
}
